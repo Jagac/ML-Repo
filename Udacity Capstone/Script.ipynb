{
 "cells": [
  {
   "cell_type": "markdown",
   "source": [
    "This data set contains simulated data that mimics customer behavior on the Starbucks rewards mobile app. Once every few days, Starbucks sends out an offer to users of the mobile app. An offer can be merely an advertisement for a drink or an actual offer such as a discount or BOGO (buy one get one free). Some users might not receive any offer during certain weeks.\r\n",
    "\r\n",
    "Not all users receive the same offer, and that is the challenge to solve with this data set.\r\n",
    "\r\n",
    "Your task is to combine transaction, demographic and offer data to determine which demographic groups respond best to which offer type. This data set is a simplified version of the real Starbucks app because the underlying simulator only has one product whereas Starbucks actually sells dozens of products."
   ],
   "metadata": {}
  },
  {
   "cell_type": "code",
   "execution_count": 4,
   "source": [
    "import pandas as pd\r\n",
    "import numpy as np\r\n",
    "from collections import defaultdict \r\n",
    "import math\r\n",
    "import json\r\n",
    "import re\r\n",
    "import time\r\n",
    "import matplotlib.pyplot as plt\r\n",
    "import datetime\r\n",
    "import seaborn as sns\r\n",
    "import sklearn.linear_model as lm\r\n",
    "from sklearn.ensemble import RandomForestClassifier\r\n",
    "from sklearn.model_selection import train_test_split\r\n",
    "from sklearn.metrics import classification_report\r\n",
    "from sklearn.model_selection import GridSearchCV\r\n",
    "from sklearn.metrics import make_scorer, accuracy_score,classification_report,recall_score, f1_score,average_precision_score,precision_score\r\n",
    "import pickle\r\n",
    "import joblib"
   ],
   "outputs": [],
   "metadata": {}
  }
 ],
 "metadata": {
  "orig_nbformat": 4,
  "language_info": {
   "name": "python",
   "version": "3.8.8",
   "mimetype": "text/x-python",
   "codemirror_mode": {
    "name": "ipython",
    "version": 3
   },
   "pygments_lexer": "ipython3",
   "nbconvert_exporter": "python",
   "file_extension": ".py"
  },
  "kernelspec": {
   "name": "python3",
   "display_name": "Python 3.8.8 64-bit ('base': conda)"
  },
  "interpreter": {
   "hash": "b3ba2566441a7c06988d0923437866b63cedc61552a5af99d1f4fb67d367b25f"
  }
 },
 "nbformat": 4,
 "nbformat_minor": 2
}