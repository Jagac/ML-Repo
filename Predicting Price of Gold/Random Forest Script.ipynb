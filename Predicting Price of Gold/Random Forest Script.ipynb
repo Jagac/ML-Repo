{
 "cells": [
  {
   "cell_type": "markdown",
   "id": "80f77ae7",
   "metadata": {},
   "source": [
    "# Investment Club 10/12/2020\n",
    "### Predicting the price of gold model"
   ]
  },
  {
   "cell_type": "code",
   "execution_count": 22,
   "id": "066d8205",
   "metadata": {},
   "outputs": [],
   "source": [
    "import numpy as np\n",
    "import pandas as pd\n",
    "import matplotlib.pyplot as plt\n",
    "import seaborn as sns\n",
    "from sklearn.model_selection import train_test_split\n",
    "from sklearn.ensemble import RandomForestRegressor\n",
    "from sklearn import metrics"
   ]
  },
  {
   "cell_type": "markdown",
   "id": "8f5a86ac",
   "metadata": {},
   "source": [
    "### Collection and Processing"
   ]
  },
  {
   "cell_type": "code",
   "execution_count": 4,
   "id": "6daff4aa",
   "metadata": {},
   "outputs": [],
   "source": [
    "# loading the csv data\n",
    "gold_data = pd.read_csv(\"gld_price_data.csv\")"
   ]
  },
  {
   "cell_type": "code",
   "execution_count": 5,
   "id": "ddd3b0e0",
   "metadata": {},
   "outputs": [
    {
     "data": {
      "text/html": [
       "<div>\n",
       "<style scoped>\n",
       "    .dataframe tbody tr th:only-of-type {\n",
       "        vertical-align: middle;\n",
       "    }\n",
       "\n",
       "    .dataframe tbody tr th {\n",
       "        vertical-align: top;\n",
       "    }\n",
       "\n",
       "    .dataframe thead th {\n",
       "        text-align: right;\n",
       "    }\n",
       "</style>\n",
       "<table border=\"1\" class=\"dataframe\">\n",
       "  <thead>\n",
       "    <tr style=\"text-align: right;\">\n",
       "      <th></th>\n",
       "      <th>Date</th>\n",
       "      <th>SPX</th>\n",
       "      <th>GLD</th>\n",
       "      <th>USO</th>\n",
       "      <th>SLV</th>\n",
       "      <th>EUR/USD</th>\n",
       "    </tr>\n",
       "  </thead>\n",
       "  <tbody>\n",
       "    <tr>\n",
       "      <th>0</th>\n",
       "      <td>1/2/2008</td>\n",
       "      <td>1447.160034</td>\n",
       "      <td>84.860001</td>\n",
       "      <td>78.470001</td>\n",
       "      <td>15.180</td>\n",
       "      <td>1.471692</td>\n",
       "    </tr>\n",
       "    <tr>\n",
       "      <th>1</th>\n",
       "      <td>1/3/2008</td>\n",
       "      <td>1447.160034</td>\n",
       "      <td>85.570000</td>\n",
       "      <td>78.370003</td>\n",
       "      <td>15.285</td>\n",
       "      <td>1.474491</td>\n",
       "    </tr>\n",
       "    <tr>\n",
       "      <th>2</th>\n",
       "      <td>1/4/2008</td>\n",
       "      <td>1411.630005</td>\n",
       "      <td>85.129997</td>\n",
       "      <td>77.309998</td>\n",
       "      <td>15.167</td>\n",
       "      <td>1.475492</td>\n",
       "    </tr>\n",
       "    <tr>\n",
       "      <th>3</th>\n",
       "      <td>1/7/2008</td>\n",
       "      <td>1416.180054</td>\n",
       "      <td>84.769997</td>\n",
       "      <td>75.500000</td>\n",
       "      <td>15.053</td>\n",
       "      <td>1.468299</td>\n",
       "    </tr>\n",
       "    <tr>\n",
       "      <th>4</th>\n",
       "      <td>1/8/2008</td>\n",
       "      <td>1390.189941</td>\n",
       "      <td>86.779999</td>\n",
       "      <td>76.059998</td>\n",
       "      <td>15.590</td>\n",
       "      <td>1.557099</td>\n",
       "    </tr>\n",
       "  </tbody>\n",
       "</table>\n",
       "</div>"
      ],
      "text/plain": [
       "       Date          SPX        GLD        USO     SLV   EUR/USD\n",
       "0  1/2/2008  1447.160034  84.860001  78.470001  15.180  1.471692\n",
       "1  1/3/2008  1447.160034  85.570000  78.370003  15.285  1.474491\n",
       "2  1/4/2008  1411.630005  85.129997  77.309998  15.167  1.475492\n",
       "3  1/7/2008  1416.180054  84.769997  75.500000  15.053  1.468299\n",
       "4  1/8/2008  1390.189941  86.779999  76.059998  15.590  1.557099"
      ]
     },
     "execution_count": 5,
     "metadata": {},
     "output_type": "execute_result"
    }
   ],
   "source": [
    "gold_data.head()"
   ]
  },
  {
   "cell_type": "code",
   "execution_count": 6,
   "id": "2d47091f",
   "metadata": {},
   "outputs": [
    {
     "data": {
      "text/plain": [
       "(2290, 6)"
      ]
     },
     "execution_count": 6,
     "metadata": {},
     "output_type": "execute_result"
    }
   ],
   "source": [
    "gold_data.shape"
   ]
  },
  {
   "cell_type": "code",
   "execution_count": 7,
   "id": "730d12d7",
   "metadata": {},
   "outputs": [
    {
     "name": "stdout",
     "output_type": "stream",
     "text": [
      "<class 'pandas.core.frame.DataFrame'>\n",
      "RangeIndex: 2290 entries, 0 to 2289\n",
      "Data columns (total 6 columns):\n",
      " #   Column   Non-Null Count  Dtype  \n",
      "---  ------   --------------  -----  \n",
      " 0   Date     2290 non-null   object \n",
      " 1   SPX      2290 non-null   float64\n",
      " 2   GLD      2290 non-null   float64\n",
      " 3   USO      2290 non-null   float64\n",
      " 4   SLV      2290 non-null   float64\n",
      " 5   EUR/USD  2290 non-null   float64\n",
      "dtypes: float64(5), object(1)\n",
      "memory usage: 107.5+ KB\n"
     ]
    }
   ],
   "source": [
    "gold_data.info()"
   ]
  },
  {
   "cell_type": "code",
   "execution_count": 8,
   "id": "3d34f91b",
   "metadata": {},
   "outputs": [
    {
     "data": {
      "text/plain": [
       "Date       0\n",
       "SPX        0\n",
       "GLD        0\n",
       "USO        0\n",
       "SLV        0\n",
       "EUR/USD    0\n",
       "dtype: int64"
      ]
     },
     "execution_count": 8,
     "metadata": {},
     "output_type": "execute_result"
    }
   ],
   "source": [
    "gold_data.isnull().sum()"
   ]
  },
  {
   "cell_type": "code",
   "execution_count": 9,
   "id": "2ff5f74c",
   "metadata": {},
   "outputs": [
    {
     "data": {
      "text/html": [
       "<div>\n",
       "<style scoped>\n",
       "    .dataframe tbody tr th:only-of-type {\n",
       "        vertical-align: middle;\n",
       "    }\n",
       "\n",
       "    .dataframe tbody tr th {\n",
       "        vertical-align: top;\n",
       "    }\n",
       "\n",
       "    .dataframe thead th {\n",
       "        text-align: right;\n",
       "    }\n",
       "</style>\n",
       "<table border=\"1\" class=\"dataframe\">\n",
       "  <thead>\n",
       "    <tr style=\"text-align: right;\">\n",
       "      <th></th>\n",
       "      <th>SPX</th>\n",
       "      <th>GLD</th>\n",
       "      <th>USO</th>\n",
       "      <th>SLV</th>\n",
       "      <th>EUR/USD</th>\n",
       "    </tr>\n",
       "  </thead>\n",
       "  <tbody>\n",
       "    <tr>\n",
       "      <th>count</th>\n",
       "      <td>2290.000000</td>\n",
       "      <td>2290.000000</td>\n",
       "      <td>2290.000000</td>\n",
       "      <td>2290.000000</td>\n",
       "      <td>2290.000000</td>\n",
       "    </tr>\n",
       "    <tr>\n",
       "      <th>mean</th>\n",
       "      <td>1654.315776</td>\n",
       "      <td>122.732875</td>\n",
       "      <td>31.842221</td>\n",
       "      <td>20.084997</td>\n",
       "      <td>1.283653</td>\n",
       "    </tr>\n",
       "    <tr>\n",
       "      <th>std</th>\n",
       "      <td>519.111540</td>\n",
       "      <td>23.283346</td>\n",
       "      <td>19.523517</td>\n",
       "      <td>7.092566</td>\n",
       "      <td>0.131547</td>\n",
       "    </tr>\n",
       "    <tr>\n",
       "      <th>min</th>\n",
       "      <td>676.530029</td>\n",
       "      <td>70.000000</td>\n",
       "      <td>7.960000</td>\n",
       "      <td>8.850000</td>\n",
       "      <td>1.039047</td>\n",
       "    </tr>\n",
       "    <tr>\n",
       "      <th>25%</th>\n",
       "      <td>1239.874969</td>\n",
       "      <td>109.725000</td>\n",
       "      <td>14.380000</td>\n",
       "      <td>15.570000</td>\n",
       "      <td>1.171313</td>\n",
       "    </tr>\n",
       "    <tr>\n",
       "      <th>50%</th>\n",
       "      <td>1551.434998</td>\n",
       "      <td>120.580002</td>\n",
       "      <td>33.869999</td>\n",
       "      <td>17.268500</td>\n",
       "      <td>1.303297</td>\n",
       "    </tr>\n",
       "    <tr>\n",
       "      <th>75%</th>\n",
       "      <td>2073.010070</td>\n",
       "      <td>132.840004</td>\n",
       "      <td>37.827501</td>\n",
       "      <td>22.882500</td>\n",
       "      <td>1.369971</td>\n",
       "    </tr>\n",
       "    <tr>\n",
       "      <th>max</th>\n",
       "      <td>2872.870117</td>\n",
       "      <td>184.589996</td>\n",
       "      <td>117.480003</td>\n",
       "      <td>47.259998</td>\n",
       "      <td>1.598798</td>\n",
       "    </tr>\n",
       "  </tbody>\n",
       "</table>\n",
       "</div>"
      ],
      "text/plain": [
       "               SPX          GLD          USO          SLV      EUR/USD\n",
       "count  2290.000000  2290.000000  2290.000000  2290.000000  2290.000000\n",
       "mean   1654.315776   122.732875    31.842221    20.084997     1.283653\n",
       "std     519.111540    23.283346    19.523517     7.092566     0.131547\n",
       "min     676.530029    70.000000     7.960000     8.850000     1.039047\n",
       "25%    1239.874969   109.725000    14.380000    15.570000     1.171313\n",
       "50%    1551.434998   120.580002    33.869999    17.268500     1.303297\n",
       "75%    2073.010070   132.840004    37.827501    22.882500     1.369971\n",
       "max    2872.870117   184.589996   117.480003    47.259998     1.598798"
      ]
     },
     "execution_count": 9,
     "metadata": {},
     "output_type": "execute_result"
    }
   ],
   "source": [
    "gold_data.describe()"
   ]
  },
  {
   "cell_type": "code",
   "execution_count": 10,
   "id": "4dd82526",
   "metadata": {},
   "outputs": [],
   "source": [
    "correlation = gold_data.corr()"
   ]
  },
  {
   "cell_type": "code",
   "execution_count": 11,
   "id": "16f135fc",
   "metadata": {},
   "outputs": [
    {
     "data": {
      "text/plain": [
       "<AxesSubplot:>"
      ]
     },
     "execution_count": 11,
     "metadata": {},
     "output_type": "execute_result"
    },
    {
     "data": {
      "image/png": "[encoded data removed]",
      "text/plain": [
       "<Figure size 576x576 with 2 Axes>"
      ]
     },
     "metadata": {
      "needs_background": "light"
     },
     "output_type": "display_data"
    }
   ],
   "source": [
    "plt.figure(figsize = (8,8))\n",
    "sns.heatmap(correlation, cbar = True, square = True, fmt = '.1f', annot = True, annot_kws={'size':8}, cmap = 'Blues')"
   ]
  },
  {
   "cell_type": "code",
   "execution_count": 12,
   "id": "96b254c0",
   "metadata": {},
   "outputs": [
    {
     "name": "stdout",
     "output_type": "stream",
     "text": [
      "SPX        0.049345\n",
      "GLD        1.000000\n",
      "USO       -0.186360\n",
      "SLV        0.866632\n",
      "EUR/USD   -0.024375\n",
      "Name: GLD, dtype: float64\n"
     ]
    }
   ],
   "source": [
    "print(correlation['GLD'])"
   ]
  },
  {
   "cell_type": "code",
   "execution_count": 13,
   "id": "2beb1e4f",
   "metadata": {},
   "outputs": [
    {
     "data": {
      "text/plain": [
       "<seaborn.axisgrid.FacetGrid at 0x1a357a5f400>"
      ]
     },
     "execution_count": 13,
     "metadata": {},
     "output_type": "execute_result"
    },
    {
     "data": {
      "image/png": "[encoded data removed]",
      "text/plain": [
       "<Figure size 360x360 with 1 Axes>"
      ]
     },
     "metadata": {
      "needs_background": "light"
     },
     "output_type": "display_data"
    }
   ],
   "source": [
    "sns.displot(gold_data['GLD'], color = 'green')"
   ]
  },
  {
   "cell_type": "code",
   "execution_count": 14,
   "id": "c9e6b6d8",
   "metadata": {},
   "outputs": [],
   "source": [
    "X = gold_data.drop(['Date', 'GLD'], axis = 1)\n",
    "Y = gold_data['GLD']"
   ]
  },
  {
   "cell_type": "code",
   "execution_count": 15,
   "id": "824f3537",
   "metadata": {},
   "outputs": [
    {
     "name": "stdout",
     "output_type": "stream",
     "text": [
      "              SPX        USO      SLV   EUR/USD\n",
      "0     1447.160034  78.470001  15.1800  1.471692\n",
      "1     1447.160034  78.370003  15.2850  1.474491\n",
      "2     1411.630005  77.309998  15.1670  1.475492\n",
      "3     1416.180054  75.500000  15.0530  1.468299\n",
      "4     1390.189941  76.059998  15.5900  1.557099\n",
      "...           ...        ...      ...       ...\n",
      "2285  2671.919922  14.060000  15.5100  1.186789\n",
      "2286  2697.790039  14.370000  15.5300  1.184722\n",
      "2287  2723.070068  14.410000  15.7400  1.191753\n",
      "2288  2730.129883  14.380000  15.5600  1.193118\n",
      "2289  2725.780029  14.405800  15.4542  1.182033\n",
      "\n",
      "[2290 rows x 4 columns]\n"
     ]
    }
   ],
   "source": [
    "print(X)"
   ]
  },
  {
   "cell_type": "code",
   "execution_count": 16,
   "id": "ba5aec2b",
   "metadata": {},
   "outputs": [
    {
     "name": "stdout",
     "output_type": "stream",
     "text": [
      "0        84.860001\n",
      "1        85.570000\n",
      "2        85.129997\n",
      "3        84.769997\n",
      "4        86.779999\n",
      "           ...    \n",
      "2285    124.589996\n",
      "2286    124.330002\n",
      "2287    125.180000\n",
      "2288    124.489998\n",
      "2289    122.543800\n",
      "Name: GLD, Length: 2290, dtype: float64\n"
     ]
    }
   ],
   "source": [
    "print(Y)"
   ]
  },
  {
   "cell_type": "code",
   "execution_count": 17,
   "id": "aab4b79c",
   "metadata": {},
   "outputs": [],
   "source": [
    "#Splitting data\n",
    "X_train, X_test, Y_train, Y_test = train_test_split(X,Y, test_size = 0.2, random_state = 2)"
   ]
  },
  {
   "cell_type": "code",
   "execution_count": 18,
   "id": "f9f2ffa4",
   "metadata": {},
   "outputs": [],
   "source": [
    "regressor = RandomForestRegressor(n_estimators = 100)"
   ]
  },
  {
   "cell_type": "code",
   "execution_count": 19,
   "id": "7bc83eaa",
   "metadata": {},
   "outputs": [
    {
     "data": {
      "text/plain": [
       "RandomForestRegressor()"
      ]
     },
     "execution_count": 19,
     "metadata": {},
     "output_type": "execute_result"
    }
   ],
   "source": [
    "#Training model\n",
    "regressor.fit(X_train, Y_train)"
   ]
  },
  {
   "cell_type": "code",
   "execution_count": 20,
   "id": "c5531a89",
   "metadata": {},
   "outputs": [],
   "source": [
    "test_data_prediction = regressor.predict(X_test)"
   ]
  },
  {
   "cell_type": "code",
   "execution_count": 21,
   "id": "5e421bbf",
   "metadata": {},
   "outputs": [
    {
     "name": "stdout",
     "output_type": "stream",
     "text": [
      "[168.72759966  81.54449987 116.4275     127.62370075 120.66980184\n",
      " 154.79289821 150.57169846 126.19409987 117.33639869 125.97170098\n",
      " 116.68730141 171.87050081 141.58879918 167.88389858 115.06510045\n",
      " 117.40900038 138.4802031  170.25620124 159.7778028  159.14289922\n",
      " 154.93330027 125.24100024 176.25260007 157.19060383 125.21640016\n",
      "  93.9733999   78.22889961 120.76680001 119.02019885 167.48349911\n",
      "  88.21940052 125.30170006  91.04670048 117.82229991 121.15159917\n",
      " 136.30440104 115.63790131 115.71640072 147.99160018 107.01370088\n",
      " 104.43920278  87.1971981  126.50900035 118.07960004 153.09299866\n",
      " 119.76260014 108.37070005 108.11539845  93.16620034 127.11409785\n",
      "  74.87510046 113.64779883 121.37630007 111.13729933 118.92059915\n",
      " 120.33299958 159.40959877 168.32930085 147.10029659  85.70139842\n",
      "  94.26490032  86.8129988   90.59780001 118.95270067 126.45820099\n",
      " 127.41349982 169.17519914 122.26439918 117.26049876  98.61210019\n",
      " 167.79050101 143.19389791 131.9538022  121.26600236 120.91209962\n",
      " 119.71930085 114.74540151 118.03300049 107.22050085 127.92210114\n",
      " 114.0072996  107.21779986 116.66420056 119.6397987   89.04990056\n",
      "  88.37369864 146.9073024  127.25949985 112.81090056 110.35349844\n",
      " 108.15599893  77.60409894 169.08440226 114.0614992  121.66639898\n",
      " 127.77890169 154.8892983   91.7152992  136.2894009  158.53680326\n",
      " 125.50100086 125.34340082 130.63540151 114.98560108 119.69969988\n",
      "  92.13119992 110.39289886 167.44479932 157.2263991  114.30579997\n",
      " 106.63800158  80.50419945 113.29680027 125.76320077 107.10659932\n",
      " 119.30770107 155.72610353 159.41289908 120.00779985 134.93530236\n",
      " 101.49339966 117.61119814 119.07160012 113.00670078 102.75189919\n",
      " 160.24809816  98.84930019 147.4181992  125.6393008  169.7569985\n",
      " 126.11009804 127.30809775 127.4015009  113.85229938 112.90700069\n",
      " 123.41689894 102.14199881  89.38299981 124.5909995  101.59319969\n",
      " 107.03879937 113.9504001  117.13490067  99.16639938 121.48820027\n",
      " 163.75929978  87.25479874 106.97719959 117.25380082 127.5781015\n",
      " 124.11100039  80.83519922 120.20110056 158.16119827  88.05739967\n",
      " 110.10999963 118.75829899 172.82029856 103.03069854 105.43990067\n",
      " 122.73080033 158.88209744  87.45259799  93.20269994 112.50780038\n",
      " 176.70679937 114.34089982 119.02460025  94.4825009  125.60770025\n",
      " 166.52950101 114.82350065 116.91300135  88.40849855 149.04370115\n",
      " 120.47219981  89.32729964 112.22310006 117.29120009 118.78080143\n",
      "  88.20839968  94.04909991 116.97909988 118.52350189 120.07380044\n",
      " 126.65109853 121.98899949 149.67010039 164.65370069 118.48969976\n",
      " 120.33170128 151.76630022 118.43089917 172.77109872 105.46239951\n",
      " 104.94460096 149.83900131 113.71470067 124.8162012  148.01239946\n",
      " 119.71590081 115.49810073 112.5328001  113.41690184 140.38790095\n",
      " 117.66989789 102.91130041 115.8662015  103.83690184  98.7179002\n",
      " 117.3804005   90.69490024  91.5652009  153.53479866 102.65009969\n",
      " 155.20350123 114.27520135 138.48740113  90.12349792 115.42039931\n",
      " 114.22099938 122.93440015 121.86020045 165.02730237  92.99149961\n",
      " 135.15980113 121.35659923 120.85740035 104.64290023 141.3121033\n",
      " 122.0243993  116.60740031 113.297701   127.20709743 122.81569955\n",
      " 125.72209925 121.24630008  86.97479933 132.41260199 144.05170212\n",
      "  92.65639961 157.37689983 159.26260278 126.15489909 164.54080004\n",
      " 108.83999962 110.11180064 103.59159805  94.36690072 127.76320268\n",
      " 106.97950047 160.33989985 121.51360019 132.05890024 130.71070136\n",
      " 160.81179991  90.04749859 175.20200189 127.8684006  126.78449849\n",
      "  86.58009917 124.48579963 150.10009733  89.6224002  107.11739947\n",
      " 108.91750001  83.21089959 135.98699974 154.99970171 138.89870316\n",
      "  73.85930025 152.69150088 126.28539995 126.74269989 127.5239986\n",
      " 108.41739987 156.17900045 114.57410109 116.96630128 125.39969923\n",
      " 154.05530151 121.42820022 156.44399891  93.06050055 125.45390144\n",
      " 125.49130064  87.97790041  92.21159939 126.25489946 128.30050337\n",
      " 113.0339003  117.79859738 120.84549988 127.21139727 119.73150095\n",
      " 136.47710043  93.99479919 119.93390063 113.16460104  94.35299981\n",
      " 108.95729966  86.87939928 108.80379928  89.45829996  92.53860023\n",
      " 131.54560287 162.33710001  89.28130005 119.40380081 133.47110154\n",
      " 123.85280026 128.44490209 101.86319831  88.83969888 131.9438007\n",
      " 119.67510044 108.4228999  169.05710029 115.26710073  86.70219925\n",
      " 118.86250061  91.02969929 161.51630087 116.4730005  121.50070024\n",
      " 160.31629803 120.07539943 112.82079933 108.37879865 126.70899944\n",
      "  75.97520025 102.99549983 127.85790248 121.69689966  92.63820055\n",
      " 131.97069988 118.13630128 115.95729981 154.87070248 159.49180037\n",
      " 110.00299937 157.31439811 119.33980109 160.23030094 118.56070041\n",
      " 157.93779839 115.00979919 116.38330029 148.94499912 114.94260059\n",
      " 125.64969896 165.00849872 117.72170013 125.00409918 153.17660384\n",
      " 153.50350261 132.1697006  114.92620012 121.40440208 124.62820067\n",
      "  89.71100075 123.23489989 154.56070175 111.69680046 106.88639983\n",
      " 161.73820121 118.58950029 165.83470071 134.02110126 114.91079968\n",
      " 152.85289807 168.63970015 115.55609957 114.09710126 157.20309878\n",
      "  85.37209844 127.12990012 127.93310086 128.73580106 124.30710059\n",
      " 123.83820043  90.70660083 153.27930048  96.99039982 137.48399981\n",
      "  88.93229914 107.24399995 115.13650058 112.76700106 124.66709924\n",
      "  91.34869876 125.42510111 162.38919828 119.85829892 165.04900097\n",
      " 126.64099836 112.36529996 127.52309917  95.19569839  91.22849977\n",
      " 103.23749904 120.71270005  83.28929953 126.47249973 160.38920496\n",
      " 117.15030076 118.27609978 119.65169992 123.06319993 120.14120123\n",
      " 121.41780029 118.1799005  106.96960014 148.32509939 126.52469769\n",
      " 115.84970122  74.30279983 127.80430054 154.14370105 122.0782002\n",
      " 125.52540062  88.87600031 103.13429825 124.98960074 120.26040049\n",
      "  73.51170087 151.60640019 121.30340038 104.72219981  86.3051978\n",
      " 115.10749898 172.13759924 119.62680039 159.48629793 113.2528995\n",
      " 121.18450045 118.53600142  95.91989978 118.48450011 125.74430038\n",
      " 118.50439949  95.92560008 153.72020148 122.05990031 147.76569926\n",
      " 159.35670139 114.08410046 122.59399929 150.59889811 127.41670023\n",
      " 165.71190053 136.30800036 119.86379969 167.01849919 108.40239915\n",
      " 121.76379903 138.14360156 106.54879925]\n"
     ]
    }
   ],
   "source": [
    "print(test_data_prediction)"
   ]
  },
  {
   "cell_type": "code",
   "execution_count": 23,
   "id": "1deb297b",
   "metadata": {},
   "outputs": [
    {
     "name": "stdout",
     "output_type": "stream",
     "text": [
      "R squared error :  0.9890059868102502\n"
     ]
    }
   ],
   "source": [
    "error_score = metrics.r2_score(Y_test, test_data_prediction)\n",
    "print(\"R squared error : \", error_score)"
   ]
  },
  {
   "cell_type": "markdown",
   "id": "c65c7ced",
   "metadata": {},
   "source": [
    "### Comparing actual values and predicted values"
   ]
  },
  {
   "cell_type": "code",
   "execution_count": 24,
   "id": "7b8b4d18",
   "metadata": {},
   "outputs": [],
   "source": [
    "Y_test = list(Y_test)"
   ]
  },
  {
   "cell_type": "code",
   "execution_count": 26,
   "id": "2b370582",
   "metadata": {},
   "outputs": [
    {
     "data": {
      "image/png": "[encoded data removed]",
      "text/plain": [
       "<Figure size 432x288 with 1 Axes>"
      ]
     },
     "metadata": {
      "needs_background": "light"
     },
     "output_type": "display_data"
    }
   ],
   "source": [
    "plt.plot(Y_test, color='blue', label = 'Actual Value')\n",
    "plt.plot(test_data_prediction, color = 'green', label = 'Predicted Value')\n",
    "plt.title('Actual Price vs Predicted Price')\n",
    "plt.xlabel('Number of Values')\n",
    "plt.ylabel('GLD Price')\n",
    "plt.legend()\n",
    "plt.show()"
   ]
  }
 ],
 "metadata": {
  "kernelspec": {
   "display_name": "Python 3",
   "language": "python",
   "name": "python3"
  },
  "language_info": {
   "codemirror_mode": {
    "name": "ipython",
    "version": 3
   },
   "file_extension": ".py",
   "mimetype": "text/x-python",
   "name": "python",
   "nbconvert_exporter": "python",
   "pygments_lexer": "ipython3",
   "version": "3.8.8"
  }
 },
 "nbformat": 4,
 "nbformat_minor": 5
}
