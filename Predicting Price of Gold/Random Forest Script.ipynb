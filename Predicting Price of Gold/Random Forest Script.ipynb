{
 "cells": [
  {
   "cell_type": "markdown",
   "id": "80f77ae7",
   "metadata": {},
   "source": [
    "# Investment Club 10/12/2020\n",
    "### Predicting the price of gold model"
   ]
  },
  {
   "cell_type": "code",
   "execution_count": 2,
   "id": "066d8205",
   "metadata": {},
   "outputs": [],
   "source": [
    "import numpy as np\n",
    "import pandas as pd\n",
    "import matplotlib.pyplot as plt\n",
    "import seaborn as sns\n",
    "from sklearn.model_selection import train_test_split\n",
    "from sklearn.ensemble import RandomForestRegressor\n",
    "from sklearn import metrics"
   ]
  },
  {
   "cell_type": "markdown",
   "id": "8f5a86ac",
   "metadata": {},
   "source": [
    "### Collection and Processing"
   ]
  },
  {
   "cell_type": "code",
   "execution_count": 3,
   "id": "6daff4aa",
   "metadata": {},
   "outputs": [],
   "source": [
    "# loading the csv data\n",
    "gold_data = pd.read_csv(\"gld_price_data.csv\")"
   ]
  },
  {
   "cell_type": "code",
   "execution_count": 4,
   "id": "ddd3b0e0",
   "metadata": {},
   "outputs": [
    {
     "data": {
      "text/html": [
       "<div>\n",
       "<style scoped>\n",
       "    .dataframe tbody tr th:only-of-type {\n",
       "        vertical-align: middle;\n",
       "    }\n",
       "\n",
       "    .dataframe tbody tr th {\n",
       "        vertical-align: top;\n",
       "    }\n",
       "\n",
       "    .dataframe thead th {\n",
       "        text-align: right;\n",
       "    }\n",
       "</style>\n",
       "<table border=\"1\" class=\"dataframe\">\n",
       "  <thead>\n",
       "    <tr style=\"text-align: right;\">\n",
       "      <th></th>\n",
       "      <th>Date</th>\n",
       "      <th>SPX</th>\n",
       "      <th>GLD</th>\n",
       "      <th>USO</th>\n",
       "      <th>SLV</th>\n",
       "      <th>EUR/USD</th>\n",
       "    </tr>\n",
       "  </thead>\n",
       "  <tbody>\n",
       "    <tr>\n",
       "      <th>0</th>\n",
       "      <td>1/2/2008</td>\n",
       "      <td>1447.160034</td>\n",
       "      <td>84.860001</td>\n",
       "      <td>78.470001</td>\n",
       "      <td>15.180</td>\n",
       "      <td>1.471692</td>\n",
       "    </tr>\n",
       "    <tr>\n",
       "      <th>1</th>\n",
       "      <td>1/3/2008</td>\n",
       "      <td>1447.160034</td>\n",
       "      <td>85.570000</td>\n",
       "      <td>78.370003</td>\n",
       "      <td>15.285</td>\n",
       "      <td>1.474491</td>\n",
       "    </tr>\n",
       "    <tr>\n",
       "      <th>2</th>\n",
       "      <td>1/4/2008</td>\n",
       "      <td>1411.630005</td>\n",
       "      <td>85.129997</td>\n",
       "      <td>77.309998</td>\n",
       "      <td>15.167</td>\n",
       "      <td>1.475492</td>\n",
       "    </tr>\n",
       "    <tr>\n",
       "      <th>3</th>\n",
       "      <td>1/7/2008</td>\n",
       "      <td>1416.180054</td>\n",
       "      <td>84.769997</td>\n",
       "      <td>75.500000</td>\n",
       "      <td>15.053</td>\n",
       "      <td>1.468299</td>\n",
       "    </tr>\n",
       "    <tr>\n",
       "      <th>4</th>\n",
       "      <td>1/8/2008</td>\n",
       "      <td>1390.189941</td>\n",
       "      <td>86.779999</td>\n",
       "      <td>76.059998</td>\n",
       "      <td>15.590</td>\n",
       "      <td>1.557099</td>\n",
       "    </tr>\n",
       "  </tbody>\n",
       "</table>\n",
       "</div>"
      ],
      "text/plain": [
       "       Date          SPX        GLD        USO     SLV   EUR/USD\n",
       "0  1/2/2008  1447.160034  84.860001  78.470001  15.180  1.471692\n",
       "1  1/3/2008  1447.160034  85.570000  78.370003  15.285  1.474491\n",
       "2  1/4/2008  1411.630005  85.129997  77.309998  15.167  1.475492\n",
       "3  1/7/2008  1416.180054  84.769997  75.500000  15.053  1.468299\n",
       "4  1/8/2008  1390.189941  86.779999  76.059998  15.590  1.557099"
      ]
     },
     "execution_count": 4,
     "metadata": {},
     "output_type": "execute_result"
    }
   ],
   "source": [
    "gold_data.head()"
   ]
  },
  {
   "cell_type": "code",
   "execution_count": 5,
   "id": "2d47091f",
   "metadata": {},
   "outputs": [
    {
     "data": {
      "text/plain": [
       "(2290, 6)"
      ]
     },
     "execution_count": 5,
     "metadata": {},
     "output_type": "execute_result"
    }
   ],
   "source": [
    "gold_data.shape"
   ]
  },
  {
   "cell_type": "code",
   "execution_count": 6,
   "id": "730d12d7",
   "metadata": {},
   "outputs": [
    {
     "name": "stdout",
     "output_type": "stream",
     "text": [
      "<class 'pandas.core.frame.DataFrame'>\n",
      "RangeIndex: 2290 entries, 0 to 2289\n",
      "Data columns (total 6 columns):\n",
      " #   Column   Non-Null Count  Dtype  \n",
      "---  ------   --------------  -----  \n",
      " 0   Date     2290 non-null   object \n",
      " 1   SPX      2290 non-null   float64\n",
      " 2   GLD      2290 non-null   float64\n",
      " 3   USO      2290 non-null   float64\n",
      " 4   SLV      2290 non-null   float64\n",
      " 5   EUR/USD  2290 non-null   float64\n",
      "dtypes: float64(5), object(1)\n",
      "memory usage: 107.5+ KB\n"
     ]
    }
   ],
   "source": [
    "gold_data.info()"
   ]
  },
  {
   "cell_type": "code",
   "execution_count": 7,
   "id": "3d34f91b",
   "metadata": {},
   "outputs": [
    {
     "data": {
      "text/plain": [
       "Date       0\n",
       "SPX        0\n",
       "GLD        0\n",
       "USO        0\n",
       "SLV        0\n",
       "EUR/USD    0\n",
       "dtype: int64"
      ]
     },
     "execution_count": 7,
     "metadata": {},
     "output_type": "execute_result"
    }
   ],
   "source": [
    "gold_data.isnull().sum()"
   ]
  },
  {
   "cell_type": "code",
   "execution_count": 8,
   "id": "2ff5f74c",
   "metadata": {},
   "outputs": [
    {
     "data": {
      "text/html": [
       "<div>\n",
       "<style scoped>\n",
       "    .dataframe tbody tr th:only-of-type {\n",
       "        vertical-align: middle;\n",
       "    }\n",
       "\n",
       "    .dataframe tbody tr th {\n",
       "        vertical-align: top;\n",
       "    }\n",
       "\n",
       "    .dataframe thead th {\n",
       "        text-align: right;\n",
       "    }\n",
       "</style>\n",
       "<table border=\"1\" class=\"dataframe\">\n",
       "  <thead>\n",
       "    <tr style=\"text-align: right;\">\n",
       "      <th></th>\n",
       "      <th>SPX</th>\n",
       "      <th>GLD</th>\n",
       "      <th>USO</th>\n",
       "      <th>SLV</th>\n",
       "      <th>EUR/USD</th>\n",
       "    </tr>\n",
       "  </thead>\n",
       "  <tbody>\n",
       "    <tr>\n",
       "      <th>count</th>\n",
       "      <td>2290.000000</td>\n",
       "      <td>2290.000000</td>\n",
       "      <td>2290.000000</td>\n",
       "      <td>2290.000000</td>\n",
       "      <td>2290.000000</td>\n",
       "    </tr>\n",
       "    <tr>\n",
       "      <th>mean</th>\n",
       "      <td>1654.315776</td>\n",
       "      <td>122.732875</td>\n",
       "      <td>31.842221</td>\n",
       "      <td>20.084997</td>\n",
       "      <td>1.283653</td>\n",
       "    </tr>\n",
       "    <tr>\n",
       "      <th>std</th>\n",
       "      <td>519.111540</td>\n",
       "      <td>23.283346</td>\n",
       "      <td>19.523517</td>\n",
       "      <td>7.092566</td>\n",
       "      <td>0.131547</td>\n",
       "    </tr>\n",
       "    <tr>\n",
       "      <th>min</th>\n",
       "      <td>676.530029</td>\n",
       "      <td>70.000000</td>\n",
       "      <td>7.960000</td>\n",
       "      <td>8.850000</td>\n",
       "      <td>1.039047</td>\n",
       "    </tr>\n",
       "    <tr>\n",
       "      <th>25%</th>\n",
       "      <td>1239.874969</td>\n",
       "      <td>109.725000</td>\n",
       "      <td>14.380000</td>\n",
       "      <td>15.570000</td>\n",
       "      <td>1.171313</td>\n",
       "    </tr>\n",
       "    <tr>\n",
       "      <th>50%</th>\n",
       "      <td>1551.434998</td>\n",
       "      <td>120.580002</td>\n",
       "      <td>33.869999</td>\n",
       "      <td>17.268500</td>\n",
       "      <td>1.303297</td>\n",
       "    </tr>\n",
       "    <tr>\n",
       "      <th>75%</th>\n",
       "      <td>2073.010070</td>\n",
       "      <td>132.840004</td>\n",
       "      <td>37.827501</td>\n",
       "      <td>22.882500</td>\n",
       "      <td>1.369971</td>\n",
       "    </tr>\n",
       "    <tr>\n",
       "      <th>max</th>\n",
       "      <td>2872.870117</td>\n",
       "      <td>184.589996</td>\n",
       "      <td>117.480003</td>\n",
       "      <td>47.259998</td>\n",
       "      <td>1.598798</td>\n",
       "    </tr>\n",
       "  </tbody>\n",
       "</table>\n",
       "</div>"
      ],
      "text/plain": [
       "               SPX          GLD          USO          SLV      EUR/USD\n",
       "count  2290.000000  2290.000000  2290.000000  2290.000000  2290.000000\n",
       "mean   1654.315776   122.732875    31.842221    20.084997     1.283653\n",
       "std     519.111540    23.283346    19.523517     7.092566     0.131547\n",
       "min     676.530029    70.000000     7.960000     8.850000     1.039047\n",
       "25%    1239.874969   109.725000    14.380000    15.570000     1.171313\n",
       "50%    1551.434998   120.580002    33.869999    17.268500     1.303297\n",
       "75%    2073.010070   132.840004    37.827501    22.882500     1.369971\n",
       "max    2872.870117   184.589996   117.480003    47.259998     1.598798"
      ]
     },
     "execution_count": 8,
     "metadata": {},
     "output_type": "execute_result"
    }
   ],
   "source": [
    "gold_data.describe()"
   ]
  },
  {
   "cell_type": "code",
   "execution_count": 9,
   "id": "4dd82526",
   "metadata": {},
   "outputs": [],
   "source": [
    "correlation = gold_data.corr()"
   ]
  },
  {
   "cell_type": "code",
   "execution_count": 10,
   "id": "16f135fc",
   "metadata": {},
   "outputs": [
    {
     "data": {
      "text/plain": [
       "<AxesSubplot:>"
      ]
     },
     "execution_count": 10,
     "metadata": {},
     "output_type": "execute_result"
    },
    {
     "data": {
      "image/png": "[encoded data removed]",
      "text/plain": [
       "<Figure size 576x576 with 2 Axes>"
      ]
     },
     "metadata": {
      "needs_background": "light"
     },
     "output_type": "display_data"
    }
   ],
   "source": [
    "plt.figure(figsize = (8,8))\n",
    "sns.heatmap(correlation, cbar = True, square = True, fmt = '.1f', annot = True, annot_kws={'size':8}, cmap = 'Blues')"
   ]
  },
  {
   "cell_type": "code",
   "execution_count": 11,
   "id": "96b254c0",
   "metadata": {},
   "outputs": [
    {
     "name": "stdout",
     "output_type": "stream",
     "text": [
      "SPX        0.049345\n",
      "GLD        1.000000\n",
      "USO       -0.186360\n",
      "SLV        0.866632\n",
      "EUR/USD   -0.024375\n",
      "Name: GLD, dtype: float64\n"
     ]
    }
   ],
   "source": [
    "print(correlation['GLD'])"
   ]
  },
  {
   "cell_type": "code",
   "execution_count": 12,
   "id": "2beb1e4f",
   "metadata": {},
   "outputs": [
    {
     "data": {
      "text/plain": [
       "<seaborn.axisgrid.FacetGrid at 0x1d6b27811f0>"
      ]
     },
     "execution_count": 12,
     "metadata": {},
     "output_type": "execute_result"
    },
    {
     "data": {
      "image/png": "[encoded data removed]",
      "text/plain": [
       "<Figure size 360x360 with 1 Axes>"
      ]
     },
     "metadata": {
      "needs_background": "light"
     },
     "output_type": "display_data"
    }
   ],
   "source": [
    "sns.displot(gold_data['GLD'], color = 'green')"
   ]
  },
  {
   "cell_type": "code",
   "execution_count": 13,
   "id": "c9e6b6d8",
   "metadata": {},
   "outputs": [],
   "source": [
    "X = gold_data.drop(['Date', 'GLD'], axis = 1)\n",
    "Y = gold_data['GLD']"
   ]
  },
  {
   "cell_type": "code",
   "execution_count": 14,
   "id": "824f3537",
   "metadata": {},
   "outputs": [
    {
     "name": "stdout",
     "output_type": "stream",
     "text": [
      "              SPX        USO      SLV   EUR/USD\n",
      "0     1447.160034  78.470001  15.1800  1.471692\n",
      "1     1447.160034  78.370003  15.2850  1.474491\n",
      "2     1411.630005  77.309998  15.1670  1.475492\n",
      "3     1416.180054  75.500000  15.0530  1.468299\n",
      "4     1390.189941  76.059998  15.5900  1.557099\n",
      "...           ...        ...      ...       ...\n",
      "2285  2671.919922  14.060000  15.5100  1.186789\n",
      "2286  2697.790039  14.370000  15.5300  1.184722\n",
      "2287  2723.070068  14.410000  15.7400  1.191753\n",
      "2288  2730.129883  14.380000  15.5600  1.193118\n",
      "2289  2725.780029  14.405800  15.4542  1.182033\n",
      "\n",
      "[2290 rows x 4 columns]\n"
     ]
    }
   ],
   "source": [
    "print(X)"
   ]
  },
  {
   "cell_type": "code",
   "execution_count": 15,
   "id": "ba5aec2b",
   "metadata": {},
   "outputs": [
    {
     "name": "stdout",
     "output_type": "stream",
     "text": [
      "0        84.860001\n",
      "1        85.570000\n",
      "2        85.129997\n",
      "3        84.769997\n",
      "4        86.779999\n",
      "           ...    \n",
      "2285    124.589996\n",
      "2286    124.330002\n",
      "2287    125.180000\n",
      "2288    124.489998\n",
      "2289    122.543800\n",
      "Name: GLD, Length: 2290, dtype: float64\n"
     ]
    }
   ],
   "source": [
    "print(Y)"
   ]
  },
  {
   "cell_type": "code",
   "execution_count": 16,
   "id": "aab4b79c",
   "metadata": {},
   "outputs": [],
   "source": [
    "#Splitting data\n",
    "X_train, X_test, Y_train, Y_test = train_test_split(X,Y, test_size = 0.2, random_state = 2)"
   ]
  },
  {
   "cell_type": "code",
   "execution_count": 17,
   "id": "f9f2ffa4",
   "metadata": {},
   "outputs": [],
   "source": [
    "regressor = RandomForestRegressor(n_estimators = 100)"
   ]
  },
  {
   "cell_type": "code",
   "execution_count": 18,
   "id": "7bc83eaa",
   "metadata": {},
   "outputs": [
    {
     "data": {
      "text/plain": [
       "RandomForestRegressor()"
      ]
     },
     "execution_count": 18,
     "metadata": {},
     "output_type": "execute_result"
    }
   ],
   "source": [
    "#Training model\n",
    "regressor.fit(X_train, Y_train)"
   ]
  },
  {
   "cell_type": "code",
   "execution_count": 19,
   "id": "c5531a89",
   "metadata": {},
   "outputs": [],
   "source": [
    "test_data_prediction = regressor.predict(X_test)"
   ]
  },
  {
   "cell_type": "code",
   "execution_count": 20,
   "id": "5e421bbf",
   "metadata": {},
   "outputs": [
    {
     "name": "stdout",
     "output_type": "stream",
     "text": [
      "[168.71079973  81.93750005 116.04540051 127.7025005  120.70980143\n",
      " 154.58529798 150.16879823 126.12800051 117.40269901 126.03280089\n",
      " 116.73400113 171.8011009  141.57609898 167.82979896 115.04189983\n",
      " 117.60160036 137.95550261 170.24120066 159.55640338 159.05549889\n",
      " 155.21920051 125.11950035 176.03979973 157.57060336 125.20820048\n",
      "  93.69859989  76.92530049 120.8896002  119.17869974 167.43749967\n",
      "  88.24700049 125.34060041  91.37390108 117.6655005  121.02429914\n",
      " 136.01830113 115.31370135 114.95850085 147.05319978 106.88930098\n",
      " 104.55100246  87.05149771 126.50270042 117.91520018 153.07969879\n",
      " 119.60480012 108.34639971 107.93129818  93.17980026 127.28429714\n",
      "  74.5715005  113.65699879 121.37790022 111.3604993  118.90729875\n",
      " 120.58159968 159.50280022 167.5270015  147.10329693  85.83499889\n",
      "  94.30150037  86.77479903  90.4120999  118.85620059 126.39320069\n",
      " 127.65099998 170.3746003  122.34929945 117.38299907  98.39560009\n",
      " 167.6483013  143.48239824 131.97340244 121.16930234 121.01829943\n",
      " 119.72930056 114.51580154 118.50020038 106.88770121 127.89480086\n",
      " 114.07099955 107.69159984 116.7884004  119.78969841  89.05190088\n",
      "  88.29499886 146.07160245 127.28179959 113.6301003  110.54729816\n",
      " 108.3818991   77.40329918 169.14150161 114.10049911 121.62729879\n",
      " 127.70930146 154.99699845  91.54129953 137.49940152 159.11880289\n",
      " 125.35340082 125.49660053 130.48840183 114.87230116 119.56119978\n",
      "  92.17469968 110.25969893 167.2861996  158.02339858 114.16659947\n",
      " 106.67880143  79.30819976 113.22910014 125.81510091 106.88509971\n",
      " 119.63450105 154.84170305 159.1102993  120.13800007 133.91350276\n",
      " 101.3973999  117.6411981  119.2649006  113.00190089 102.74749893\n",
      " 160.47909837  99.46410057 147.00429936 125.42050121 169.66759892\n",
      " 125.57719929 127.33319782 127.53570122 113.7991992  112.90540047\n",
      " 123.6951988  102.05859882  89.2112998  124.76869966 101.62179937\n",
      " 107.12709946 113.6409007  117.45860071  99.36589963 121.74050029\n",
      " 163.28659944  87.36409882 106.50629965 117.18480108 127.74700104\n",
      " 124.16430055  80.59499974 120.14670036 157.29929846  87.73659968\n",
      " 110.30939983 118.85199926 172.36289878 102.9440989  105.37840039\n",
      " 122.63150028 157.96619828  87.76999814  93.27860035 113.03980021\n",
      " 177.64759996 114.27839963 119.30010043  94.58660099 125.76740018\n",
      " 165.8065017  114.77380073 116.7265017   88.39509883 149.13840055\n",
      " 120.33849947  89.38819981 111.90470036 117.09960054 118.66980129\n",
      "  88.23389961  94.13240007 117.1375001  118.48770186 120.36020022\n",
      " 126.85989822 121.88819988 150.63650021 165.39110045 118.54919938\n",
      " 120.52900165 150.76500066 118.38159918 172.42029882 105.80129953\n",
      " 104.94690118 149.90400096 113.66090075 124.88400143 146.7125\n",
      " 119.70930116 115.54670021 112.54020019 113.41740205 140.14800146\n",
      " 117.88949769 102.91240047 115.89590136 103.75690185  98.88440051\n",
      " 117.43800086  90.71989986  91.34620029 153.4916994  102.66339949\n",
      " 154.74880118 114.5376015  138.44880144  90.2343984  115.49559929\n",
      " 114.47420006 123.07770028 121.76399984 165.23650129  92.81599927\n",
      " 135.72300161 121.42109903 120.80870076 104.49040013 140.43090304\n",
      " 122.19609929 116.74760053 113.66510069 126.92759776 122.6403993\n",
      " 125.82100003 121.25810036  86.809599   132.41180184 145.09360227\n",
      "  92.72359931 159.35359953 159.66560233 126.27309916 164.32879927\n",
      " 108.64789937 109.94340092 103.63159856  94.35130067 128.02630262\n",
      " 106.98140053 162.10799907 121.80140025 132.00310049 130.53420184\n",
      " 159.97700005  90.26169863 175.3371015  128.30420025 126.84269862\n",
      "  86.3163992  124.38249919 150.27469706  89.60980016 106.72449959\n",
      " 109.00920004  84.21729909 136.09840021 155.15360216 137.6616037\n",
      "  74.45170008 152.85080113 125.81729955 126.82269993 127.42439864\n",
      " 108.7061996  156.44030007 114.48390105 116.85880152 125.30229959\n",
      " 154.00930153 121.38589974 156.41879899  92.91640041 125.57550143\n",
      " 125.78050008  87.67010036  92.07749942 126.00980018 128.22020339\n",
      " 113.30530042 117.72689751 120.87610023 126.80339842 119.7566013\n",
      " 135.96550017  93.91849952 119.81460022 113.50440112  94.26779945\n",
      " 108.92419925  87.0543992  108.89349981  89.58369957  92.33060027\n",
      " 131.55640318 162.2654008   89.24409984 119.54110092 133.28180207\n",
      " 123.96850017 128.18520108 101.9170983   89.04889867 131.73220069\n",
      " 119.9660005  108.84469947 169.98440057 115.28510036  86.53669922\n",
      " 118.86760068  91.0147997  161.92280002 116.44150061 121.57999979\n",
      " 160.25929822 120.03459946 112.6568996  108.51239902 126.79609998\n",
      "  75.76830056 102.97809981 127.78890271 121.83329917  92.5388\n",
      " 131.91960061 118.19150122 115.94539987 154.52750284 160.23710054\n",
      " 110.1501997  152.46889658 119.31770096 160.3872014  118.44370015\n",
      " 159.37709937 115.13449924 116.88150054 149.9821984  114.69000091\n",
      " 125.56009847 165.47269972 117.56500016 125.03609941 152.96000351\n",
      " 153.41960263 132.174801   114.73620041 121.25580199 125.14290067\n",
      "  89.65720026 123.32029969 154.8719021  111.86240054 106.54359982\n",
      " 161.59010182 118.1329996  165.74690059 133.86740115 114.86499963\n",
      " 152.94209786 168.72099946 115.00660044 114.05850093 156.36869874\n",
      "  85.03709903 127.13830058 127.77790074 129.03279889 124.21490061\n",
      " 123.9457008   90.65270071 153.07690075  97.11509969 137.82119939\n",
      "  88.89589945 107.7072999  115.12900041 112.7436012  124.46509929\n",
      "  91.47769862 125.41620123 162.23559936 119.86859915 165.09430063\n",
      " 126.79329837 112.26680041 127.60719949  95.03149942  90.93579992\n",
      " 103.21679905 120.82900003  83.14379956 126.39480033 159.97450473\n",
      " 117.27200074 118.09989994 120.18799991 122.89379958 120.05420136\n",
      " 121.57859979 117.8873008  106.97289999 148.47109993 126.09059843\n",
      " 115.69310059  74.01619989 127.81740088 154.46230097 122.50819954\n",
      " 125.62610038  88.82350019 103.65799874 124.73360064 120.27360022\n",
      "  73.38750075 151.81510019 121.13890043 104.70240023  86.20899808\n",
      " 114.98859931 172.11869798 119.97870035 161.16139787 113.2816994\n",
      " 121.23420029 118.61180073  95.99119979 118.79249992 125.80520027\n",
      " 118.42919966  96.07230107 154.0472016  122.24079993 147.26890027\n",
      " 159.45530293 113.68960006 122.58919918 148.71999822 127.27440007\n",
      " 165.64230108 136.59360005 119.96839974 167.5804989  108.34119921\n",
      " 121.85159844 137.60350096 107.30759869]\n"
     ]
    }
   ],
   "source": [
    "print(test_data_prediction)"
   ]
  },
  {
   "cell_type": "code",
   "execution_count": 21,
   "id": "1deb297b",
   "metadata": {},
   "outputs": [
    {
     "name": "stdout",
     "output_type": "stream",
     "text": [
      "R squared error :  0.9898513056718727\n"
     ]
    }
   ],
   "source": [
    "error_score = metrics.r2_score(Y_test, test_data_prediction)\n",
    "print(\"R squared error : \", error_score)"
   ]
  },
  {
   "cell_type": "markdown",
   "id": "c65c7ced",
   "metadata": {},
   "source": [
    "### Comparing actual values and predicted values"
   ]
  },
  {
   "cell_type": "code",
   "execution_count": 22,
   "id": "7b8b4d18",
   "metadata": {},
   "outputs": [],
   "source": [
    "Y_test = list(Y_test)"
   ]
  },
  {
   "cell_type": "code",
   "execution_count": 24,
   "id": "2b370582",
   "metadata": {},
   "outputs": [
    {
     "data": {
      "image/png": "[encoded data removed]",
      "text/plain": [
       "<Figure size 432x288 with 1 Axes>"
      ]
     },
     "metadata": {
      "needs_background": "light"
     },
     "output_type": "display_data"
    }
   ],
   "source": [
    "plt.plot(Y_test, color='blue', label = 'Actual Value')\n",
    "plt.plot(test_data_prediction, color = 'red', label = 'Predicted Value', alpha = 0.5)\n",
    "plt.title('Actual Price vs Predicted Price')\n",
    "plt.xlabel('Number of Values')\n",
    "plt.ylabel('GLD Price')\n",
    "plt.legend()\n",
    "plt.show()"
   ]
  },
  {
   "cell_type": "code",
   "execution_count": null,
   "id": "c8910753",
   "metadata": {},
   "outputs": [],
   "source": []
  }
 ],
 "metadata": {
  "kernelspec": {
   "display_name": "Python 3",
   "language": "python",
   "name": "python3"
  },
  "language_info": {
   "codemirror_mode": {
    "name": "ipython",
    "version": 3
   },
   "file_extension": ".py",
   "mimetype": "text/x-python",
   "name": "python",
   "nbconvert_exporter": "python",
   "pygments_lexer": "ipython3",
   "version": "3.8.8"
  }
 },
 "nbformat": 4,
 "nbformat_minor": 5
}
