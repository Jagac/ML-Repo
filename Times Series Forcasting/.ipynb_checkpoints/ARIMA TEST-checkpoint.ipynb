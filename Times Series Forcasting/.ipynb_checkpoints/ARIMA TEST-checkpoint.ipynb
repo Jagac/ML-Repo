{
 "cells": [
  {
   "cell_type": "code",
   "execution_count": 1,
   "id": "2485193a",
   "metadata": {
    "scrolled": true
   },
   "outputs": [
    {
     "name": "stdout",
     "output_type": "stream",
     "text": [
      "(6, 3)\n",
      "Municipality\n",
      "Year\n",
      "No health insurance coverage\n"
     ]
    }
   ],
   "source": [
    "import pandas as pd\n",
    "import matplotlib.pyplot as plt\n",
    "from statsmodels.tsa.stattools import adfuller\n",
    "df = pd.read_csv('bloomfield.csv')\n",
    "print(df.shape)\n",
    "for i in df.columns:\n",
    "    print(i)"
   ]
  },
  {
   "cell_type": "code",
   "execution_count": 27,
   "id": "889fa859",
   "metadata": {
    "scrolled": true
   },
   "outputs": [],
   "source": [
    "\n",
    "#x = df['Year']\n",
    "#y = df['No health insurance coverage']\n",
    "#plt.plot(x,y)\n",
    "#plt.show()\n",
    "#print(y.mean())"
   ]
  },
  {
   "cell_type": "code",
   "execution_count": 28,
   "id": "75718218",
   "metadata": {},
   "outputs": [
    {
     "name": "stdout",
     "output_type": "stream",
     "text": [
      "ADF :  -2.818257159073449\n",
      "P-Value :  0.055712816212213655\n",
      "Num Of Lags :  0\n",
      "Num Of Observations Used For ADF Regression: 5\n",
      "Critical Values :\n",
      "\t 1% :  -6.045114\n",
      "\t 5% :  -3.9292800000000003\n",
      "\t 10% :  -2.98681\n"
     ]
    }
   ],
   "source": [
    "y = df['No health insurance coverage']\n",
    "def ad_test(dataset):\n",
    "     dftest = adfuller(dataset, autolag = 'AIC')\n",
    "     print('ADF : ',dftest[0])\n",
    "     print('P-Value : ', dftest[1])\n",
    "     print('Num Of Lags : ', dftest[2])\n",
    "     print('Num Of Observations Used For ADF Regression:', dftest[3])\n",
    "     print('Critical Values :')\n",
    "     for key, val in dftest[4].items():\n",
    "         print('\\t',key, ': ', val)\n",
    "ad_test(y)"
   ]
  },
  {
   "cell_type": "code",
   "execution_count": 29,
   "id": "eecd3041",
   "metadata": {},
   "outputs": [],
   "source": [
    "df_stationary = df['No health insurance coverage'].diff().dropna()\n",
    "df_stationary.to_csv('new.csv')"
   ]
  },
  {
   "cell_type": "code",
   "execution_count": 30,
   "id": "4333d02c",
   "metadata": {},
   "outputs": [
    {
     "data": {
      "image/png": "[encoded data removed]",
      "text/plain": [
       "<Figure size 432x288 with 1 Axes>"
      ]
     },
     "metadata": {
      "needs_background": "light"
     },
     "output_type": "display_data"
    },
    {
     "name": "stdout",
     "output_type": "stream",
     "text": [
      "-0.0034999999999999996\n",
      "ADF :  -2.818257159073449\n",
      "P-Value :  0.055712816212213655\n",
      "Num Of Lags :  0\n",
      "Num Of Observations Used For ADF Regression: 5\n",
      "Critical Values :\n",
      "\t 1% :  -6.045114\n",
      "\t 5% :  -3.9292800000000003\n",
      "\t 10% :  -2.98681\n"
     ]
    }
   ],
   "source": [
    "#close enough lol\n",
    "df = pd.read_csv('bloomfield.csv')\n",
    "x = df['Year']\n",
    "y = df['No health insurance coverage']\n",
    "plt.plot(x,y)\n",
    "plt.show()\n",
    "print(y.mean())\n",
    "ad_test(y)"
   ]
  },
  {
   "cell_type": "code",
   "execution_count": 31,
   "id": "079742b4",
   "metadata": {},
   "outputs": [
    {
     "name": "stdout",
     "output_type": "stream",
     "text": [
      "Performing stepwise search to minimize aic\n",
      " ARIMA(1,0,1)(0,0,0)[0] intercept   : AIC=-22.552, Time=0.15 sec\n",
      " ARIMA(0,0,0)(0,0,0)[0] intercept   : AIC=-24.022, Time=0.02 sec\n",
      " ARIMA(1,0,0)(0,0,0)[0] intercept   : AIC=-24.124, Time=0.05 sec\n",
      " ARIMA(0,0,1)(0,0,0)[0] intercept   : AIC=inf, Time=0.08 sec\n",
      " ARIMA(0,0,0)(0,0,0)[0]             : AIC=-25.889, Time=0.02 sec\n",
      "\n",
      "Best model:  ARIMA(0,0,0)(0,0,0)[0]          \n",
      "Total fit time: 0.320 seconds\n"
     ]
    }
   ],
   "source": [
    "from pmdarima.arima import auto_arima\n",
    "stepwise_fit = auto_arima(df['No health insurance coverage'], trace=True)"
   ]
  },
  {
   "cell_type": "code",
   "execution_count": 32,
   "id": "05b394e9",
   "metadata": {},
   "outputs": [],
   "source": [
    "import statsmodels.api as sm\n",
    "model=sm.tsa.arima.ARIMA(y,order=(0, 0, 0))\n"
   ]
  },
  {
   "cell_type": "code",
   "execution_count": 33,
   "id": "e7cbc4b2",
   "metadata": {},
   "outputs": [
    {
     "data": {
      "text/html": [
       "<table class=\"simpletable\">\n",
       "<caption>SARIMAX Results</caption>\n",
       "<tr>\n",
       "  <th>Dep. Variable:</th>   <td>No health insurance coverage</td> <th>  No. Observations:  </th>    <td>6</td>   \n",
       "</tr>\n",
       "<tr>\n",
       "  <th>Model:</th>                       <td>ARIMA</td>            <th>  Log Likelihood     </th> <td>14.011</td> \n",
       "</tr>\n",
       "<tr>\n",
       "  <th>Date:</th>                  <td>Thu, 24 Mar 2022</td>       <th>  AIC                </th> <td>-24.022</td>\n",
       "</tr>\n",
       "<tr>\n",
       "  <th>Time:</th>                      <td>17:17:35</td>           <th>  BIC                </th> <td>-24.438</td>\n",
       "</tr>\n",
       "<tr>\n",
       "  <th>Sample:</th>                        <td>0</td>              <th>  HQIC               </th> <td>-25.689</td>\n",
       "</tr>\n",
       "<tr>\n",
       "  <th></th>                             <td> - 6</td>             <th>                     </th>    <td> </td>   \n",
       "</tr>\n",
       "<tr>\n",
       "  <th>Covariance Type:</th>              <td>opg</td>             <th>                     </th>    <td> </td>   \n",
       "</tr>\n",
       "</table>\n",
       "<table class=\"simpletable\">\n",
       "<tr>\n",
       "     <td></td>       <th>coef</th>     <th>std err</th>      <th>z</th>      <th>P>|z|</th>  <th>[0.025</th>    <th>0.975]</th>  \n",
       "</tr>\n",
       "<tr>\n",
       "  <th>const</th>  <td>   -0.0035</td> <td>    0.013</td> <td>   -0.268</td> <td> 0.789</td> <td>   -0.029</td> <td>    0.022</td>\n",
       "</tr>\n",
       "<tr>\n",
       "  <th>sigma2</th> <td>    0.0005</td> <td>    0.000</td> <td>    1.108</td> <td> 0.268</td> <td>   -0.000</td> <td>    0.002</td>\n",
       "</tr>\n",
       "</table>\n",
       "<table class=\"simpletable\">\n",
       "<tr>\n",
       "  <th>Ljung-Box (L1) (Q):</th>     <td>1.31</td>  <th>  Jarque-Bera (JB):  </th> <td>0.77</td>\n",
       "</tr>\n",
       "<tr>\n",
       "  <th>Prob(Q):</th>                <td>0.25</td>  <th>  Prob(JB):          </th> <td>0.68</td>\n",
       "</tr>\n",
       "<tr>\n",
       "  <th>Heteroskedasticity (H):</th> <td>27.53</td> <th>  Skew:              </th> <td>0.84</td>\n",
       "</tr>\n",
       "<tr>\n",
       "  <th>Prob(H) (two-sided):</th>    <td>0.07</td>  <th>  Kurtosis:          </th> <td>2.53</td>\n",
       "</tr>\n",
       "</table><br/><br/>Warnings:<br/>[1] Covariance matrix calculated using the outer product of gradients (complex-step)."
      ],
      "text/plain": [
       "<class 'statsmodels.iolib.summary.Summary'>\n",
       "\"\"\"\n",
       "                                    SARIMAX Results                                     \n",
       "========================================================================================\n",
       "Dep. Variable:     No health insurance coverage   No. Observations:                    6\n",
       "Model:                                    ARIMA   Log Likelihood                  14.011\n",
       "Date:                          Thu, 24 Mar 2022   AIC                            -24.022\n",
       "Time:                                  17:17:35   BIC                            -24.438\n",
       "Sample:                                       0   HQIC                           -25.689\n",
       "                                            - 6                                         \n",
       "Covariance Type:                            opg                                         \n",
       "==============================================================================\n",
       "                 coef    std err          z      P>|z|      [0.025      0.975]\n",
       "------------------------------------------------------------------------------\n",
       "const         -0.0035      0.013     -0.268      0.789      -0.029       0.022\n",
       "sigma2         0.0005      0.000      1.108      0.268      -0.000       0.002\n",
       "===================================================================================\n",
       "Ljung-Box (L1) (Q):                   1.31   Jarque-Bera (JB):                 0.77\n",
       "Prob(Q):                              0.25   Prob(JB):                         0.68\n",
       "Heteroskedasticity (H):              27.53   Skew:                             0.84\n",
       "Prob(H) (two-sided):                  0.07   Kurtosis:                         2.53\n",
       "===================================================================================\n",
       "\n",
       "Warnings:\n",
       "[1] Covariance matrix calculated using the outer product of gradients (complex-step).\n",
       "\"\"\""
      ]
     },
     "execution_count": 33,
     "metadata": {},
     "output_type": "execute_result"
    }
   ],
   "source": [
    "model=model.fit()\n",
    "model.summary()"
   ]
  },
  {
   "cell_type": "code",
   "execution_count": null,
   "id": "1e1086a3",
   "metadata": {},
   "outputs": [],
   "source": [
    "fc, se, conf = fitted.forecast(321, alpha=0.05)"
   ]
  }
 ],
 "metadata": {
  "kernelspec": {
   "display_name": "Python 3 (ipykernel)",
   "language": "python",
   "name": "python3"
  },
  "language_info": {
   "codemirror_mode": {
    "name": "ipython",
    "version": 3
   },
   "file_extension": ".py",
   "mimetype": "text/x-python",
   "name": "python",
   "nbconvert_exporter": "python",
   "pygments_lexer": "ipython3",
   "version": "3.8.12"
  }
 },
 "nbformat": 4,
 "nbformat_minor": 5
}
